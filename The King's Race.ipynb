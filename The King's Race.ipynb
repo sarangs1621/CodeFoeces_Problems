n=int(input())
a,b=map(int,input().split())
if a+b<=n+1:
    print("White")
else:
    print("Black")
